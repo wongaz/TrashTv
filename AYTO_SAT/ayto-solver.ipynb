{
 "cells": [
  {
   "cell_type": "code",
   "id": "initial_id",
   "metadata": {
    "collapsed": true,
    "ExecuteTime": {
     "end_time": "2024-07-29T22:33:46.758089Z",
     "start_time": "2024-07-29T22:33:46.506898Z"
    }
   },
   "source": [
    "from pyomo.environ import *\n",
    "from __future__ import division # safety with double division\n",
    "from pyomo.opt import SolverFactory\n",
    "infinity = float('inf')"
   ],
   "outputs": [],
   "execution_count": 2
  },
  {
   "metadata": {
    "ExecuteTime": {
     "end_time": "2024-07-29T22:33:47.089684Z",
     "start_time": "2024-07-29T22:33:47.087530Z"
    }
   },
   "cell_type": "code",
   "source": [
    "model = AbstractModel()\n",
    "model.name = \"Oracle Solver\""
   ],
   "id": "f94802637733da41",
   "outputs": [],
   "execution_count": 3
  },
  {
   "metadata": {
    "ExecuteTime": {
     "end_time": "2024-07-29T22:33:47.487666Z",
     "start_time": "2024-07-29T22:33:47.485616Z"
    }
   },
   "cell_type": "code",
   "source": [
    "model.NumOfWeeks = Param(within=NonNegativeIntegers)\n",
    "model.Week = RangeSet(1,model.NumOfWeeks)"
   ],
   "id": "362e6dfe6c102100",
   "outputs": [],
   "execution_count": 4
  },
  {
   "metadata": {
    "ExecuteTime": {
     "end_time": "2024-07-29T22:33:48.816929Z",
     "start_time": "2024-07-29T22:33:48.814425Z"
    }
   },
   "cell_type": "code",
   "source": [
    "model.Male = Set()\n",
    "model.Female = Set()"
   ],
   "id": "6ae1c88c3c453737",
   "outputs": [],
   "execution_count": 5
  },
  {
   "metadata": {
    "ExecuteTime": {
     "end_time": "2024-07-29T22:33:49.640823Z",
     "start_time": "2024-07-29T22:33:49.638108Z"
    }
   },
   "cell_type": "code",
   "source": [
    "model.Beams = Param(model.Week, within=NonNegativeIntegers)\n",
    "model.Assignment = Param(model.Male, model.Female,model.Week, default=0.0, within=Binary)\n",
    "model.TruthBooth = Param(model.Male, model.Female, default=0.0, within=Binary)"
   ],
   "id": "2a37da4444044991",
   "outputs": [],
   "execution_count": 6
  },
  {
   "metadata": {
    "ExecuteTime": {
     "end_time": "2024-07-29T22:33:51.715335Z",
     "start_time": "2024-07-29T22:33:51.712744Z"
    }
   },
   "cell_type": "code",
   "source": "model.PerfectMatch = Var(model.Male, model.Female, within=Binary)",
   "id": "858dfd68917ee7c3",
   "outputs": [],
   "execution_count": 7
  },
  {
   "metadata": {
    "ExecuteTime": {
     "end_time": "2024-07-29T22:33:55.753503Z",
     "start_time": "2024-07-29T22:33:55.751055Z"
    }
   },
   "cell_type": "code",
   "source": [
    "def optimality_condition(model):\n",
    "    return sum(model.PerfectMatch[i, j] \\\n",
    "               for i in model.Male \\\n",
    "               for j in model.Female)\n",
    "\n",
    "model.optimization = Objective(rule=optimality_condition, sense=maximize)"
   ],
   "id": "d4f0d6ef806fd0a3",
   "outputs": [],
   "execution_count": 8
  },
  {
   "metadata": {
    "ExecuteTime": {
     "end_time": "2024-07-29T22:33:56.311172Z",
     "start_time": "2024-07-29T22:33:56.308672Z"
    }
   },
   "cell_type": "code",
   "source": [
    "def only_one_rule(model, boys):\n",
    "    return sum(model.PerfectMatch[boys,g] for g in model.Female) <= 1\n",
    "\n",
    "model.limit_one_rule = Constraint(model.Male, rule=only_one_rule)"
   ],
   "id": "3baee302eb713ab6",
   "outputs": [],
   "execution_count": 9
  },
  {
   "metadata": {
    "ExecuteTime": {
     "end_time": "2024-07-29T22:33:57.055665Z",
     "start_time": "2024-07-29T22:33:57.053094Z"
    }
   },
   "cell_type": "code",
   "source": [
    "def derive_match_rule(model, week):\n",
    "    return sum((model.PerfectMatch[b,g] * model.Assignment[b,g,week] for b in model.Male for g in model.Female)) == model.Beams[week]\n",
    "model.match_rule = Constraint(model.Week, rule=derive_match_rule)"
   ],
   "id": "2e9689520d306383",
   "outputs": [],
   "execution_count": 10
  },
  {
   "metadata": {
    "ExecuteTime": {
     "end_time": "2024-07-29T22:33:57.895074Z",
     "start_time": "2024-07-29T22:33:57.892389Z"
    }
   },
   "cell_type": "code",
   "source": [
    "def truth_booth_false(model, b, g):\n",
    "    if (b,g) in model.TruthBooth:\n",
    "       return model.TruthBooth[b,g]*model.PerfectMatch[b,g] <= 0\n",
    "    else:\n",
    "        return Constraint.Skip()\n",
    "model.failed_truth_booth = Constraint(model.Male, model.Female, rule=truth_booth_false)"
   ],
   "id": "76b872ae368b2305",
   "outputs": [],
   "execution_count": 11
  },
  {
   "metadata": {},
   "cell_type": "markdown",
   "source": "",
   "id": "e2d207d3948b874c"
  },
  {
   "metadata": {},
   "cell_type": "code",
   "outputs": [],
   "execution_count": null,
   "source": "instance = model.create_instance(\"Wong2_22.dat\")",
   "id": "4a9ca9c286adf2f9"
  },
  {
   "metadata": {},
   "cell_type": "code",
   "outputs": [],
   "execution_count": null,
   "source": "",
   "id": "1ee2287c80189af9"
  },
  {
   "metadata": {},
   "cell_type": "code",
   "outputs": [],
   "execution_count": null,
   "source": "",
   "id": "f3e804200b728a86"
  },
  {
   "metadata": {},
   "cell_type": "code",
   "outputs": [],
   "execution_count": null,
   "source": "",
   "id": "310bdca3fc0ee0ab"
  },
  {
   "metadata": {},
   "cell_type": "code",
   "outputs": [],
   "execution_count": null,
   "source": [
    "# Indicate which solver to use\n",
    "Opt = SolverFactory(\"appsi_highs\")\n",
    "\n",
    "# Generate a solution\n",
    "Soln = Opt.solve(instance)\n",
    "instance.solutions.load_from(Soln)\n",
    "\n",
    "# Print the output\n",
    "print(\"Termination Condition was \"+str(Soln.Solver.Termination_condition))\n",
    "display(instance)\n"
   ],
   "id": "7e3d59870b594dd7"
  },
  {
   "metadata": {},
   "cell_type": "code",
   "outputs": [],
   "execution_count": null,
   "source": "",
   "id": "160b7158eebaa07d"
  },
  {
   "metadata": {},
   "cell_type": "code",
   "outputs": [],
   "execution_count": null,
   "source": "",
   "id": "4120ddaf1a12bd9c"
  }
 ],
 "metadata": {
  "kernelspec": {
   "display_name": "Python 3",
   "language": "python",
   "name": "python3"
  },
  "language_info": {
   "codemirror_mode": {
    "name": "ipython",
    "version": 2
   },
   "file_extension": ".py",
   "mimetype": "text/x-python",
   "name": "python",
   "nbconvert_exporter": "python",
   "pygments_lexer": "ipython2",
   "version": "2.7.6"
  }
 },
 "nbformat": 4,
 "nbformat_minor": 5
}
